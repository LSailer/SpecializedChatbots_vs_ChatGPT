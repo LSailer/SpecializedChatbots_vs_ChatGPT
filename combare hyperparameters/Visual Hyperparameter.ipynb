{
 "cells": [
  {
   "cell_type": "markdown",
   "metadata": {},
   "source": [
    "# Introduction\n",
    "This Jupyter Notebook is part of a bachelor thesis that aims to explore the capabilities of specialized chatbots, particularly those built using BERT and Bag-of-Words (BoW). We will preprocess and analyze two sets of CSV files containing performance metrics from these models.\n",
    "\n"
   ]
  },
  {
   "cell_type": "code",
   "execution_count": 25,
   "metadata": {},
   "outputs": [],
   "source": [
    "# !pip install seaborn\n",
    "# !pip install jinja2\n",
    "import pandas as pd\n",
    "import matplotlib.pyplot as plt\n",
    "import seaborn as sns\n",
    "import numpy as np"
   ]
  },
  {
   "cell_type": "markdown",
   "metadata": {},
   "source": [
    "# Data Preprocessing for BERT\n",
    "In this section, we read the CSV file containing data related to BERT models into a DataFrame. We then sort the data and reset the index."
   ]
  },
  {
   "cell_type": "code",
   "execution_count": null,
   "metadata": {},
   "outputs": [],
   "source": [
    "# Read and preprocess the BERT data\n",
    "df_bert = pd.read_csv(\"transformer_data.csv\")\n",
    "df_bert = df_bert[['batch_size', 'epoch', 'learning_rate', 'train_accuracy', 'train_loss', 'val_accuracy', 'val_loss', 'test_accuracy']]\n",
    "df_bert.sort_values(by=['batch_size', 'learning_rate', 'epoch'], ascending=[True, False, True], inplace=True)\n",
    "df_bert.reset_index(drop=True, inplace=True)\n"
   ]
  },
  {
   "cell_type": "markdown",
   "metadata": {},
   "source": [
    "# Print LaTeX table for BERT data\n",
    "print(\"BERT Data:\")\n",
    "print(df_bert.to_latex(index=False))\n"
   ]
  },
  {
   "cell_type": "markdown",
   "metadata": {},
   "source": [
    "# Data Preprocessing for BoW\n",
    "In this section, we read the CSV file containing data related to BoW models into a DataFrame. We then sort the data and reset the index."
   ]
  },
  {
   "cell_type": "code",
   "execution_count": null,
   "metadata": {},
   "outputs": [],
   "source": [
    "# Read and preprocess the BoW data\n",
    "df_bow = pd.read_csv(\"BoW_Hyperparameter_Results.csv\")\n",
    "df_bow = df_bow[['batch_size', 'epoch', 'learning_rate', 'train_accuracy', 'train_loss', 'val_accuracy', 'val_loss', 'test_accuracy']]\n",
    "df_bow.sort_values(by=['batch_size', 'learning_rate', 'epoch'], ascending=[True, False, True], inplace=True)\n",
    "df_bow.reset_index(drop=True, inplace=True)\n"
   ]
  },
  {
   "cell_type": "code",
   "execution_count": null,
   "metadata": {},
   "outputs": [],
   "source": [
    "# Print LaTeX table for BoW data\n",
    "print(\"BoW Data:\")\n",
    "print(df_bow.to_latex(index=False))\n"
   ]
  },
  {
   "cell_type": "markdown",
   "metadata": {},
   "source": [
    "# Data Visualization\n",
    "Finally, we visualize the data by plotting accuracy against epochs for different learning rates and batch sizes. We do this separately for BERT and BoW models."
   ]
  },
  {
   "cell_type": "code",
   "execution_count": null,
   "metadata": {},
   "outputs": [],
   "source": [
    "#  Plotting\n",
    "for df, model_type in zip([df_bert, df_bow], ['BERT', 'BoW']):\n",
    "    batch_sizes = df['batch_size'].unique()\n",
    "    for batch in batch_sizes:\n",
    "        subset = df[df['batch_size'] == batch]\n",
    "        plt.figure(figsize=(10, 6))\n",
    "\n",
    "        for lr in subset['learning_rate'].unique():\n",
    "            specific_lr_data = subset[subset['learning_rate'] == lr]\n",
    "            plt.plot(specific_lr_data['epoch'], specific_lr_data['test_accuracy'], label=f\"Learning Rate: {lr}\", marker='o')\n",
    "\n",
    "        plt.title(f\"{model_type} - Accuracy vs Epochs for Batch Size: {batch}\")\n",
    "        plt.xlabel('Epochs')\n",
    "        plt.ylabel('Accuracy')\n",
    "        plt.ylim(0, 1)\n",
    "        plt.yticks(np.arange(0, 1.1, 0.2))\n",
    "        plt.legend()\n",
    "        plt.grid(True)\n",
    "        plt.show()\n"
   ]
  }
 ],
 "metadata": {
  "kernelspec": {
   "display_name": "Python 3",
   "language": "python",
   "name": "python3"
  },
  "language_info": {
   "codemirror_mode": {
    "name": "ipython",
    "version": 3
   },
   "file_extension": ".py",
   "mimetype": "text/x-python",
   "name": "python",
   "nbconvert_exporter": "python",
   "pygments_lexer": "ipython3",
   "version": "3.10.6"
  },
  "orig_nbformat": 4
 },
 "nbformat": 4,
 "nbformat_minor": 2
}
