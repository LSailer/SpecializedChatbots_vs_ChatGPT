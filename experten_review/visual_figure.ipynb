{
 "cells": [
  {
   "cell_type": "markdown",
   "source": [
    "# Introduction\r\n",
    "This Jupyter Notebook is part of a bachelor thesis that aims to investigate the capabilities of specialized chatbots. Specifically, we will compare DMS_Chatbot and ChatGPT based on expert reviews. The data is stored in a JSON file, and we will visualize it for easier comparison."
   ],
   "metadata": {}
  },
  {
   "cell_type": "code",
   "execution_count": 33,
   "source": [
    "import matplotlib.pyplot as plt\r\n",
    "import numpy as np\r\n",
    "import pandas as pd \r\n",
    "import json"
   ],
   "outputs": [],
   "metadata": {}
  },
  {
   "cell_type": "markdown",
   "source": [
    "# Data Loading\r\n",
    "In this section, we load the expert review data from a JSON file. We will then convert this data into Pandas DataFrames for easier manipulation and analysis."
   ],
   "metadata": {}
  },
  {
   "cell_type": "code",
   "execution_count": null,
   "source": [
    "# Load the expert review data from the JSON file\r\n",
    "with open('Bewertungsschema_experten_review.json', 'r') as f:\r\n",
    "    data = json.load(f)\r\n",
    "\r\n",
    "# Convert the expert review data for DMS_Chatbot and ChatGPT into Pandas DataFrames\r\n",
    "chatGPT_df = pd.DataFrame(data[\"chatGPT\"])\r\n",
    "DMS_Chatbot_df = pd.DataFrame(data[\"DMS_Chatbot\"])\r\n"
   ],
   "outputs": [],
   "metadata": {}
  },
  {
   "cell_type": "markdown",
   "source": [
    "# Data Preprocessing\r\n",
    "Here, we calculate the mean scores for each criterion for both DMS_Chatbot and ChatGPT based on the expert reviews."
   ],
   "metadata": {}
  },
  {
   "cell_type": "code",
   "execution_count": null,
   "source": [
    "# Calculate the mean scores for each criterion based on expert reviews\r\n",
    "chatGPT_means = chatGPT_df.mean()\r\n",
    "DMS_Chatbot_means = DMS_Chatbot_df.mean()\r\n"
   ],
   "outputs": [],
   "metadata": {}
  },
  {
   "cell_type": "markdown",
   "source": [
    "# LaTeX Table Generation\r\n",
    "We generate LaTeX tables to display the mean scores for DMS_Chatbot and ChatGPT based on expert reviews."
   ],
   "metadata": {}
  },
  {
   "cell_type": "code",
   "execution_count": null,
   "source": [
    "# Generate LaTeX Tables\r\n",
    "# Print LaTeX tables for mean scores based on expert reviews\r\n",
    "print(\"ChatGPT Mean Scores Based on Expert Reviews:\")\r\n",
    "print(chatGPT_means.to_latex(index=False))\r\n"
   ],
   "outputs": [],
   "metadata": {}
  },
  {
   "cell_type": "markdown",
   "source": [
    "# Data Visualization\r\n",
    "Finally, we visualize the mean scores using bar plots to compare DMS_Chatbot and ChatGPT based on expert reviews."
   ],
   "metadata": {}
  },
  {
   "cell_type": "code",
   "execution_count": null,
   "source": [
    "# Code Cell 5: Data Visualization\r\n",
    "# Set up bar plot parameters\r\n",
    "barWidth = 0.3\r\n",
    "r1 = np.arange(len(chatGPT_means))\r\n",
    "r2 = [x + barWidth for x in r1]\r\n",
    "\r\n",
    "# Create bar plots\r\n",
    "plt.bar(r1, chatGPT_means, width=barWidth, label='ChatGPT', alpha=0.8)\r\n",
    "plt.bar(r2, DMS_Chatbot_means, width=barWidth, label='DMS_Chatbot', alpha=0.8)\r\n",
    "\r\n",
    "# Add labels and title\r\n",
    "plt.xlabel('Criteria', fontweight='bold')\r\n",
    "plt.xticks([r + barWidth for r in range(len(chatGPT_means))], chatGPT_means.index, rotation=45)\r\n",
    "plt.ylabel('Average Rating')\r\n",
    "plt.title('Comparison of DMS_Chatbot and ChatGPT Based on Expert Reviews')\r\n",
    "plt.legend()\r\n",
    "plt.ylim(0, 5)\r\n",
    "plt.yticks(np.arange(0, 6, 1))\r\n",
    "\r\n",
    "# Show the plot\r\n",
    "plt.show()\r\n"
   ],
   "outputs": [],
   "metadata": {}
  }
 ],
 "metadata": {
  "kernelspec": {
   "display_name": "env",
   "language": "python",
   "name": "python3"
  },
  "language_info": {
   "codemirror_mode": {
    "name": "ipython",
    "version": 3
   },
   "file_extension": ".py",
   "mimetype": "text/x-python",
   "name": "python",
   "nbconvert_exporter": "python",
   "pygments_lexer": "ipython3",
   "version": "3.10.9"
  },
  "orig_nbformat": 4
 },
 "nbformat": 4,
 "nbformat_minor": 2
}